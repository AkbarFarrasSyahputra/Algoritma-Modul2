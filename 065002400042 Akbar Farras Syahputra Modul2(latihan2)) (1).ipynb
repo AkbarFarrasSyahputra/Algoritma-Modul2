{
 "cells": [
  {
   "cell_type": "code",
   "execution_count": 66,
   "id": "3e3943b4-cf8d-4729-8160-af9d6f09c67b",
   "metadata": {
    "scrolled": true
   },
   "outputs": [
    {
     "name": "stdin",
     "output_type": "stream",
     "text": [
      "Lintang kota 1:  42\n",
      "Bujur Kota1:  25\n",
      "Lintang kota2:  20\n",
      "Bujur kota:  21\n"
     ]
    },
    {
     "name": "stdout",
     "output_type": "stream",
     "text": [
      "2475.0584594510146\n"
     ]
    }
   ],
   "source": [
    "from math import *\n",
    "lintang1= math.radians(float(input(\"Lintang kota 1: \")))\n",
    "bujur1= math.radians(float(input(\"Bujur Kota1: \")))\n",
    "lintang2= math.radians(float(input(\"Lintang kota2: \")))\n",
    "bujur2= math.radians(float(input(\"Bujur kota: \")))\n",
    "R=6371\n",
    "lintang=lintang2-lintang1\n",
    "bujur=bujur2-bujur1\n",
    "a = math.sin(lintang/2)**2 + math.cos(lintang1)*math.cos(lintang2)*math.sin(bujur/2)**2\n",
    "c = 2 * math.atan2(sqrt(a), sqrt(1-a))\n",
    "d = R*c\n",
    "print(d)"
   ]
  },
  {
   "cell_type": "code",
   "execution_count": null,
   "id": "85e53bf1-b613-4d7d-82c5-511c8056bc20",
   "metadata": {},
   "outputs": [],
   "source": []
  },
  {
   "cell_type": "code",
   "execution_count": null,
   "id": "f6cb98a2-7802-494f-8c17-009c05e57445",
   "metadata": {},
   "outputs": [],
   "source": []
  }
 ],
 "metadata": {
  "kernelspec": {
   "display_name": "Python 3 (ipykernel)",
   "language": "python",
   "name": "python3"
  },
  "language_info": {
   "codemirror_mode": {
    "name": "ipython",
    "version": 3
   },
   "file_extension": ".py",
   "mimetype": "text/x-python",
   "name": "python",
   "nbconvert_exporter": "python",
   "pygments_lexer": "ipython3",
   "version": "3.12.4"
  }
 },
 "nbformat": 4,
 "nbformat_minor": 5
}

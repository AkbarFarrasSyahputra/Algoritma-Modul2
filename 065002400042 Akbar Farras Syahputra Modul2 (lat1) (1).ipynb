{
 "cells": [
  {
   "cell_type": "code",
   "execution_count": 3,
   "id": "e1e7191c-a060-44cb-8a6e-4baa0610fc82",
   "metadata": {},
   "outputs": [
    {
     "name": "stdin",
     "output_type": "stream",
     "text": [
      " 20\n",
      " 14\n"
     ]
    },
    {
     "name": "stdout",
     "output_type": "stream",
     "text": [
      "34\n",
      "6\n",
      "280\n",
      "6\n",
      "1.4285714285714286\n",
      "1638400000000000000\n"
     ]
    }
   ],
   "source": [
    "import math\n",
    "a= int(input())\n",
    "b= int(input())\n",
    "print (a+b)\n",
    "print (a-b)\n",
    "print(a*b)\n",
    "print(a%b)\n",
    "print(a/b)\n",
    "math.log(a)\n",
    "print(a**b)"
   ]
  },
  {
   "cell_type": "code",
   "execution_count": null,
   "id": "ba0d64c1-7626-4036-aef3-43d6246826a4",
   "metadata": {},
   "outputs": [],
   "source": []
  }
 ],
 "metadata": {
  "kernelspec": {
   "display_name": "Python 3 (ipykernel)",
   "language": "python",
   "name": "python3"
  },
  "language_info": {
   "codemirror_mode": {
    "name": "ipython",
    "version": 3
   },
   "file_extension": ".py",
   "mimetype": "text/x-python",
   "name": "python",
   "nbconvert_exporter": "python",
   "pygments_lexer": "ipython3",
   "version": "3.12.4"
  }
 },
 "nbformat": 4,
 "nbformat_minor": 5
}
